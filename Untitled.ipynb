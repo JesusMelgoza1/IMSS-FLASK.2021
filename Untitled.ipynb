{
 "cells": [
  {
   "cell_type": "code",
   "execution_count": null,
   "metadata": {},
   "outputs": [],
   "source": [
    "#diccionarios en python\n",
    "encuesta ={\n",
    "    \"nombre_encuesta\": \"encuesta1\",\n",
    "    \"seccion\": \"seccion1\",\n",
    "    \"preguntas\":{\n",
    "        \"pregunta1\": \"preguntax\",\n",
    "        \"respuesta\": \"respuestax\",\n",
    "        \"ponderacion\": \"ponderacionx\"\n",
    "    }    \n",
    "}\n",
    "encuesta"
   ]
  },
  {
   "cell_type": "code",
   "execution_count": 1,
   "metadata": {},
   "outputs": [
    {
     "data": {
      "text/plain": [
       "{'nombre_encuesta': {'seccion': 'nombre_seccion',\n",
       "  'preguntas': {'pregunta1': ['respuesta1',\n",
       "    'respuesta1',\n",
       "    'ponderacion',\n",
       "    '2']}}}"
      ]
     },
     "execution_count": 1,
     "metadata": {},
     "output_type": "execute_result"
    }
   ],
   "source": [
    "d1 = {\n",
    "    'nombre_encuesta':{\n",
    "        'seccion': 'nombre_seccion',\n",
    "        'preguntas':{\n",
    "            'pregunta1': ['respuesta1', 'respuesta1', 'ponderacion', '2']\n",
    "        }\n",
    "    }\n",
    "    }\n",
    "\n",
    "d1"
   ]
  },
  {
   "cell_type": "code",
   "execution_count": 9,
   "metadata": {},
   "outputs": [],
   "source": [
    "d1[\"nombre_encuesta\"][\"preguntas\"][\"preguntas2\"]={          \n",
    "                    'Descripcion_seccion':{\n",
    "                        'preguntas':{\n",
    "                            'pregunta':'Descripcion_Pregunta',\n",
    "                            'respuestas':'Respuestas',\n",
    "                            'ponderacion':'Ponderacion'\n",
    "                        \n",
    "                    }      \n",
    "                }\n",
    "}"
   ]
  },
  {
   "cell_type": "code",
   "execution_count": 10,
   "metadata": {},
   "outputs": [
    {
     "data": {
      "text/plain": [
       "{'nombre_encuesta': {'seccion': 'nombre_seccion',\n",
       "  'preguntas': {'pregunta1': ['respuesta1', 'respuesta1', 'ponderacion', '2'],\n",
       "   'preguntas2': {'Descripcion_seccion': {'preguntas': {'pregunta': 'Descripcion_Pregunta',\n",
       "      'respuestas': 'Respuestas',\n",
       "      'ponderacion': 'Ponderacion'}}}}}}"
      ]
     },
     "execution_count": 10,
     "metadata": {},
     "output_type": "execute_result"
    }
   ],
   "source": [
    "d1"
   ]
  },
  {
   "cell_type": "code",
   "execution_count": 5,
   "metadata": {},
   "outputs": [
    {
     "data": {
      "text/plain": [
       "{'Fruit': 22, 'Plain': 14, 'Cinnamon': 4, 'Cheese': 21, 'loquesea': 12}"
      ]
     },
     "execution_count": 5,
     "metadata": {},
     "output_type": "execute_result"
    }
   ],
   "source": [
    "scones = {\n",
    "    \"Fruit\": 22,\n",
    "    \"Plain\": 14,\n",
    "    \"Cinnamon\": 4,\n",
    "    \"Cheese\": 21\n",
    "}\n",
    "\n",
    "scones[\"loquesea\"] = 12\n",
    "scones\n"
   ]
  },
  {
   "cell_type": "code",
   "execution_count": null,
   "metadata": {},
   "outputs": [],
   "source": []
  }
 ],
 "metadata": {
  "kernelspec": {
   "display_name": "Python 3",
   "language": "python",
   "name": "python3"
  },
  "language_info": {
   "codemirror_mode": {
    "name": "ipython",
    "version": 3
   },
   "file_extension": ".py",
   "mimetype": "text/x-python",
   "name": "python",
   "nbconvert_exporter": "python",
   "pygments_lexer": "ipython3",
   "version": "3.8.5"
  }
 },
 "nbformat": 4,
 "nbformat_minor": 4
}
